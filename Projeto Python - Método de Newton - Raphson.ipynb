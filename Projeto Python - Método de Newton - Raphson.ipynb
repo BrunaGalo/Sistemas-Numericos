{
 "cells": [
  {
   "cell_type": "markdown",
   "metadata": {},
   "source": [
    "# Método de Newton-Raphson:"
   ]
  },
  {
   "cell_type": "code",
   "execution_count": 1,
   "metadata": {},
   "outputs": [],
   "source": [
    "##Teste 1: função f(x)= x^3 - 9x + 3 com intervalo entre [0,1]\n",
    "def f(x):\n",
    "    return x**3-9*x+3"
   ]
  },
  {
   "cell_type": "code",
   "execution_count": 2,
   "metadata": {},
   "outputs": [],
   "source": [
    "#Definindo primeira derivada da função\n",
    "def flinha(x):\n",
    "    return 3*x**2-9"
   ]
  },
  {
   "cell_type": "code",
   "execution_count": 3,
   "metadata": {},
   "outputs": [
    {
     "name": "stdout",
     "output_type": "stream",
     "text": [
      "Número de iterações = 3\n",
      "A raiz encontrada é 0.33760895596580065 (precisão de 0.001)\n"
     ]
    }
   ],
   "source": [
    "# Valor inicial\n",
    "x0 = 1\n",
    "\n",
    "# Máximo número de iterações e precisão\n",
    "MX = 100\n",
    "EPSL = 1e-3\n",
    "\n",
    "for k in range(MX):\n",
    "    xk = x0-f(x0)/flinha(x0)\n",
    "    \n",
    "    if abs(xk-x0) < EPSL:\n",
    "        print(f'Número de iterações = {k}')\n",
    "        print(f'A raiz encontrada é {xk} (precisão de {EPSL})')\n",
    "        break\n",
    "        \n",
    "    x0 = xk"
   ]
  },
  {
   "cell_type": "code",
   "execution_count": 4,
   "metadata": {},
   "outputs": [],
   "source": [
    "#Teste 2: função f(x)= x^3 - x - 1, com intervalo entre [1,2] e precisão de 10^-6\n",
    "def f(x):\n",
    "    return x**3-1*x-1"
   ]
  },
  {
   "cell_type": "code",
   "execution_count": 5,
   "metadata": {},
   "outputs": [],
   "source": [
    "def flinha(x):\n",
    "    return 3*x**2 -1"
   ]
  },
  {
   "cell_type": "code",
   "execution_count": 6,
   "metadata": {},
   "outputs": [
    {
     "name": "stdout",
     "output_type": "stream",
     "text": [
      "Número de iterações = 4\n",
      "A raiz encontrada é 1.3247179572447898 (precisão de 1e-06)\n"
     ]
    }
   ],
   "source": [
    "# Valor inicial\n",
    "x0 = 1\n",
    "\n",
    "# Máximo número de iterações e precisão\n",
    "MX = 100\n",
    "EPSL = 1e-6\n",
    "\n",
    "for k in range(MX):\n",
    "    xk = x0-f(x0)/flinha(x0)\n",
    "    \n",
    "    if abs(xk-x0) < EPSL:\n",
    "        print(f'Número de iterações = {k}')\n",
    "        print(f'A raiz encontrada é {xk} (precisão de {EPSL})')\n",
    "        break\n",
    "        \n",
    "    x0 = xk"
   ]
  },
  {
   "cell_type": "code",
   "execution_count": 13,
   "metadata": {},
   "outputs": [],
   "source": []
  },
  {
   "cell_type": "code",
   "execution_count": 14,
   "metadata": {},
   "outputs": [],
   "source": []
  },
  {
   "cell_type": "code",
   "execution_count": null,
   "metadata": {},
   "outputs": [],
   "source": []
  },
  {
   "cell_type": "code",
   "execution_count": 4,
   "metadata": {},
   "outputs": [],
   "source": []
  },
  {
   "cell_type": "code",
   "execution_count": null,
   "metadata": {},
   "outputs": [],
   "source": []
  }
 ],
 "metadata": {
  "kernelspec": {
   "display_name": "Python 3",
   "language": "python",
   "name": "python3"
  },
  "language_info": {
   "codemirror_mode": {
    "name": "ipython",
    "version": 3
   },
   "file_extension": ".py",
   "mimetype": "text/x-python",
   "name": "python",
   "nbconvert_exporter": "python",
   "pygments_lexer": "ipython3",
   "version": "3.7.4"
  }
 },
 "nbformat": 4,
 "nbformat_minor": 2
}
